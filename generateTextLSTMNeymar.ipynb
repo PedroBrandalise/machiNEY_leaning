{
  "nbformat": 4,
  "nbformat_minor": 0,
  "metadata": {
    "colab": {
      "name": "generateTextLSTMNeymar.ipynb",
      "provenance": [],
      "collapsed_sections": [],
      "include_colab_link": true
    },
    "kernelspec": {
      "name": "python3",
      "display_name": "Python 3"
    }
  },
  "cells": [
    {
      "cell_type": "markdown",
      "metadata": {
        "id": "view-in-github",
        "colab_type": "text"
      },
      "source": [
        "<a href=\"https://colab.research.google.com/github/PedroBrandalise/machiNEY_leaning/blob/master/generateTextLSTMNeymar.ipynb\" target=\"_parent\"><img src=\"https://colab.research.google.com/assets/colab-badge.svg\" alt=\"Open In Colab\"/></a>"
      ]
    },
    {
      "cell_type": "code",
      "metadata": {
        "id": "opIQBvboYsQg"
      },
      "source": [
        "import keras\n",
        "keras.__version__\n",
        "import numpy as np\n",
        "import os"
      ],
      "execution_count": 14,
      "outputs": []
    },
    {
      "cell_type": "code",
      "metadata": {
        "id": "6Fl_0gduf_tK",
        "outputId": "f3aef3d6-e4a9-494c-eb3a-630b7e99b544",
        "colab": {
          "base_uri": "https://localhost:8080/",
          "height": 34
        }
      },
      "source": [
        "from google.colab import drive\n",
        "drive.mount(\"/content/drive\")"
      ],
      "execution_count": 1,
      "outputs": [
        {
          "output_type": "stream",
          "text": [
            "Mounted at /content/drive\n"
          ],
          "name": "stdout"
        }
      ]
    },
    {
      "cell_type": "code",
      "metadata": {
        "id": "_eubQ6sugRgQ",
        "outputId": "c2505141-0af9-4d1c-eca1-3bb0d6744c21",
        "colab": {
          "base_uri": "https://localhost:8080/",
          "height": 34
        }
      },
      "source": [
        "\n",
        "!ls drive/'My Drive'/menino_ney/\n"
      ],
      "execution_count": 16,
      "outputs": [
        {
          "output_type": "stream",
          "text": [
            "tuites.txt\n"
          ],
          "name": "stdout"
        }
      ]
    },
    {
      "cell_type": "code",
      "metadata": {
        "id": "4nDlsG6hecvd",
        "outputId": "701dda4b-8784-427b-ee23-7ed8702ba331",
        "colab": {
          "base_uri": "https://localhost:8080/",
          "height": 34
        }
      },
      "source": [
        "path = \"/content/drive/My Drive/menino_ney/tuites.txt\"\n",
        "# text = np.loadtxt(path)\n",
        "# with open(path, 'r') as f:\n",
        "#   print(f.read())\n",
        "text = open(path).read().lower()\n",
        "textLen = len(text)\n",
        "print('corpus lenght: ' , textLen)"
      ],
      "execution_count": 18,
      "outputs": [
        {
          "output_type": "stream",
          "text": [
            "corpus lenght:  326345\n"
          ],
          "name": "stdout"
        }
      ]
    },
    {
      "cell_type": "code",
      "metadata": {
        "id": "qH7BAa_pZLIN",
        "outputId": "d93ce440-9792-47b7-9ae5-e25987e3c33c",
        "colab": {
          "base_uri": "https://localhost:8080/",
          "height": 34
        }
      },
      "source": [
        "\n",
        "path = keras.utils.get_file('nietzsche.txt', origin=\"https://s3.amazonaws.com/text-datasets/nietzsche.txt\")\n",
        "text = open(path).read().lower()\n",
        "textLen = len(text)\n",
        "print('corpus lenght: ' , textLen)"
      ],
      "execution_count": null,
      "outputs": [
        {
          "output_type": "stream",
          "text": [
            "corpus lenght:  600893\n"
          ],
          "name": "stdout"
        }
      ]
    },
    {
      "cell_type": "code",
      "metadata": {
        "id": "-JWSWksLZcZ9",
        "outputId": "fed66532-d468-47bd-c8c6-322930949657",
        "colab": {
          "base_uri": "https://localhost:8080/",
          "height": 68
        }
      },
      "source": [
        "#lenght of sample\n",
        "\n",
        "maxlen = 60\n",
        "\n",
        "step = 3\n",
        "\n",
        "sentences = []\n",
        "\n",
        "next_chars= []\n",
        "\n",
        "for i in range(0, textLen - maxlen, step):\n",
        "  sentences.append(text[i:i+maxlen])\n",
        "  next_chars.append(text[i+maxlen])\n",
        "print('number os sentences: ', len(sentences))\n",
        "# print('next_chars:', next_chars)\n",
        "\n",
        "chars = sorted(list(set(text)))\n",
        "# print('chars: ', chars)\n",
        "print('number of unique chars', len(chars))\n",
        "\n",
        "char_indices = dict((char, chars.index(char)) for char in chars )\n",
        "\n",
        "print('vectorization...')\n",
        "\n",
        "x = np.zeros((len(sentences), maxlen, len(chars)), dtype= np.bool)\n",
        "y = np.zeros((len(sentences), len(chars)), dtype = np.bool)\n",
        "\n",
        "# print (char_indices)\n",
        "for i, sentence in enumerate(sentences):\n",
        "# for i, sentence in enumerate(sentences):\n",
        "\n",
        "  for t, char in enumerate(sentence):\n",
        "  # for t, char in enumerate(sentence):\n",
        "\n",
        "    # x[i, t, char_indices[char]] = 1\n",
        "    x[i, t, char_indices[char]] = 1\n",
        "   \n",
        "\n",
        "  y[i, char_indices[next_chars[i]]] = 1\n",
        "  \n",
        "\n",
        "\n",
        "\n",
        "\n",
        "\n"
      ],
      "execution_count": 19,
      "outputs": [
        {
          "output_type": "stream",
          "text": [
            "number os sentences:  108762\n",
            "number of unique chars 337\n",
            "vectorization...\n"
          ],
          "name": "stdout"
        }
      ]
    },
    {
      "cell_type": "code",
      "metadata": {
        "id": "VDdk9bNJfxJL",
        "outputId": "e16547ab-5eda-4293-a8bd-a1abb8884b7b",
        "colab": {
          "base_uri": "https://localhost:8080/",
          "height": 34
        }
      },
      "source": [
        "from keras import layers\n",
        "\n",
        "model = keras.models.Sequential()\n",
        "model.add(layers.LSTM(128, input_shape= (maxlen, len(chars))))\n",
        "\n",
        "model.add(layers.Dense(len(chars), activation='softmax'))\n",
        "print(\"model created\")"
      ],
      "execution_count": 20,
      "outputs": [
        {
          "output_type": "stream",
          "text": [
            "model created\n"
          ],
          "name": "stdout"
        }
      ]
    },
    {
      "cell_type": "code",
      "metadata": {
        "id": "QFW8gngpguR9",
        "outputId": "0917e6c0-b0dd-4e58-ee92-6822f53a89a8",
        "colab": {
          "base_uri": "https://localhost:8080/",
          "height": 34
        }
      },
      "source": [
        "optimizer = keras.optimizers.RMSprop(lr = 0.01)\n",
        "\n",
        "model.compile(loss='categorical_crossentropy', optimizer=optimizer)\n",
        "print('model compiled')"
      ],
      "execution_count": 21,
      "outputs": [
        {
          "output_type": "stream",
          "text": [
            "model compiled\n"
          ],
          "name": "stdout"
        }
      ]
    },
    {
      "cell_type": "code",
      "metadata": {
        "id": "4kbEGTsSqbxr"
      },
      "source": [
        "\n",
        "from keras import layers\n",
        "\n",
        "model = keras.models.Sequential()\n",
        "model.add(layers.LSTM(128, input_shape=(maxlen, len(chars))))\n",
        "model.add(layers.Dense(len(chars), activation='softmax'))\n",
        "\n",
        "optimizer = keras.optimizers.RMSprop(lr=0.01)\n",
        "model.compile(loss='categorical_crossentropy', optimizer=optimizer)\n"
      ],
      "execution_count": 22,
      "outputs": []
    },
    {
      "cell_type": "code",
      "metadata": {
        "id": "WvvYXyEei0tx"
      },
      "source": [
        "def sample(preds, temperature=1.0):\n",
        "    preds = np.asarray(preds).astype('float64')\n",
        "    preds = np.log(preds) / temperature\n",
        "    exp_preds = np.exp(preds)\n",
        "    preds = exp_preds / np.sum(exp_preds)\n",
        "    probas = np.random.multinomial(1, preds, 1)\n",
        "    return np.argmax(probas)"
      ],
      "execution_count": 27,
      "outputs": []
    },
    {
      "cell_type": "code",
      "metadata": {
        "id": "nT1tq1EAlOz8",
        "outputId": "47ab0d26-eaae-4d97-eb70-5a9333704ca0",
        "colab": {
          "base_uri": "https://localhost:8080/",
          "height": 1000
        }
      },
      "source": [
        "import random\n",
        "import sys\n",
        "\n",
        "\n",
        "for epoch in range(1,10):\n",
        "  print (\"epoch: \", epoch)\n",
        "  model.fit(x,y, batch_size=128, epochs=1)\n",
        "\n",
        "\n",
        "  \n",
        "  start_index = random.randint(0, len(text) - maxlen - 1 )\n",
        "  generated_text = text[start_index: start_index + maxlen]\n",
        "  print('---generating with seed: > '+ generated_text + ' < ')\n",
        "\n",
        "  for temperature in [0.2, 0.5, 1.0, 1.2]:\n",
        "    print ('------temperature: ', temperature)\n",
        "    sys.stdout.write(generated_text)\n",
        "    for i in range(140):\n",
        "      sampled = np.zeros((1, maxlen, len(chars)))\n",
        "      for t, char in enumerate (generated_text):\n",
        "        sampled [0, t, char_indices[char]] = 1\n",
        "      \n",
        "      preds  = model.predict(sampled, verbose=0)[0]\n",
        "      next_index = sample(preds, temperature)\n",
        "      next_char= chars[next_index]\n",
        "\n",
        "\n",
        "      generated_text += next_char\n",
        "      generated_text = generated_text[1:]\n",
        "\n",
        "      sys.stdout.write(next_char)\n",
        "      sys.stdout.flush()\n",
        "    print()\n",
        "\n"
      ],
      "execution_count": 28,
      "outputs": [
        {
          "output_type": "stream",
          "text": [
            "epoch:  1\n",
            "850/850 [==============================] - 217s 255ms/step - loss: 1.1844\n",
            "---generating with seed: > co/grjcnmyx9o #futebolamericano https://t.co/kblw7uy7vp\n",
            "toda < \n",
            "------temperature:  0.2\n",
            "co/grjcnmyx9o #futebolamericano https://t.co/kblw7uy7vp\n",
            "toda do feliz de meu sando de sento nos para a seu sonte de seu seu sento na conhecia de para seu seu nos para mais for ter the nos deus to a to\n",
            "------temperature:  0.5\n",
            "a de para seu seu nos para mais for ter the nos deus to a todo re liga pera com maria ? eu ait as tudo a for to jo a senho !! rt @neymarjr http://t.co/glptluetr6\n",
            "que deus nos abençoe e nos proteja !! \n",
            "------temperature:  1.0\n",
            "ttp://t.co/glptluetr6\n",
            "que deus nos abençoe e nos proteja !! https://t.co/so3pviv7vi\n",
            "avinda var #se✌hala 2x @gagamilanoworl  conhocar tosça eme noiroce . vice beamentamemo no lua pura do ter mainro v'm\n",
            "------temperature:  1.2\n",
            "me noiroce . vice beamentamemo no lua pura do ter mainro v'm🏽au parai caga yo marmar, !.\n",
            "vocêpegundon. ubarg agora qheiro:/#ad http://t.co/lfkzpmfgc fist: vrgy yauive minhrtino porl deps otesfuém @aly\n",
            "epoch:  2\n",
            "850/850 [==============================] - 214s 252ms/step - loss: 1.1336\n",
            "---generating with seed: > hrl #ad https://t.co/xpijxjilvp\n",
            "eu pude realizar meu sonho e < \n",
            "------temperature:  0.2\n",
            "hrl #ad https://t.co/xpijxjilvp\n",
            "eu pude realizar meu sonho e nos protecado a com o apara no @neymarjr @neymarjr @neymarjr @neymarjr @parabrasil http://t.co/cvbinhpscv\n",
            "que deus nos abençoe e nos protej\n",
            "------temperature:  0.5\n",
            "sil http://t.co/cvbinhpscv\n",
            "que deus nos abençoe e nos proteja 🙏 ⚽ https://t.co/cvmpxnxxxp\n",
            "tard cam http://t.co/fgoipsvfcr\n",
            "valeu o grotamor a http://t.co/ldlvaeddha\n",
            "@gagamilanoworld https://t.co/moifvm\n",
            "------temperature:  1.0\n",
            " http://t.co/ldlvaeddha\n",
            "@gagamilanoworld https://t.co/moifvmfepj\n",
            "yeu nos oluringrs, h4me na amanhã fclura, aquita com em oseino de #4#a mão corar a seis indap todo recomoa. glalera maaando in veme our\n",
            "------temperature:  1.2\n",
            "corar a seis indap todo recomoa. glalera maaando in veme ourrim, sureito um ey byokk http://t.co/m6l5hi9oeh e https://t.co/tcpocnjgid\n",
            "paraliar valeas um pr:/técis3qsperda⚽ barãora não funtais #visulic\n",
            "epoch:  3\n",
            "850/850 [==============================] - 214s 252ms/step - loss: 1.1313\n",
            "---generating with seed: >  e ganhar o carro. cadastre-se e concorra http://t.co/cvnkme < \n",
            "------temperature:  0.2\n",
            " e ganhar o carro. cadastre-se e concorra http://t.co/cvnkmem9ld http://t.co/juyyoidwcc\n",
            "@encrastoras agora só falta virar #gagre só falta virar #craque a córo dancorrededacljro http://t.co/prrgmmypu\n",
            "@\n",
            "------temperature:  0.5\n",
            "rar #craque a córo dancorrededacljro http://t.co/prrgmmypu\n",
            "@carronanjr agora só faltro vira http://t.co/cvnkmem9ld http://t.co/7rmq0x7zlh\n",
            "@neymar agora só falta virar #cradera gó #traneddusive you bat\n",
            "------temperature:  1.0\n",
            "eymar agora só falta virar #cradera gó #traneddusive you bathe ílise , o life a solitagna comanua e destis sento um dijar.? http://t.co/cwoxjppkex\n",
            "ly e nos meu promar que acrnpoold. loja consoite dasi\n",
            "------temperature:  1.2\n",
            "jppkex\n",
            "ly e nos meu promar que acrnpoold. loja consoite dasive rrappotebralle..#gea anivcrdorsuda fotbatosem ro… https://t.co/qpoilpopx  #m!!r\n",
            "horpemala, pogenteca: http://t.co/tubw5cpoaf\n",
            "vaalho cusai\n",
            "epoch:  4\n",
            "850/850 [==============================] - 204s 241ms/step - loss: 1.0980\n",
            "---generating with seed: > cvnkmem9ld http://t.co/pj2f6lanox\n",
            "@raquidato18 agora só falt < \n",
            "------temperature:  0.2\n",
            "cvnkmem9ld http://t.co/pj2f6lanox\n",
            "@raquidato18 agora só falta virar #craquedaclaro e ganhar o carro. cadastre-se e concorra http://t.co/cvnkmem9ld http://t.co/ooicooijob\n",
            "@ladsessedneymar agora só falt\n",
            "------temperature:  0.5\n",
            "mem9ld http://t.co/ooicooijob\n",
            "@ladsessedneymar agora só falta virar #craquedaclaro e ganhar o carro. cadastre-se e concorra http://t.co/cvnkmem9ld http://t.co/j3frr3dapo\n",
            "@faioootheldoneymar agora só f\n",
            "------temperature:  1.0\n",
            "mem9ld http://t.co/j3frr3dapo\n",
            "@faioootheldoneymar agora só falta virar #craquedaclaro e ganhar o carro. cadastre-se e concorra http://t.co/cvnkmem9ld http://t.co/pakxajo2cf\n",
            "@alyorsbeidneyda iteça agor\n",
            "------temperature:  1.2\n",
            "vnkmem9ld http://t.co/pakxajo2cf\n",
            "@alyorsbeidneyda iteça agora só faltre#cadrirar. virar #craquedaclaro #cadastrrenede fay gia\" de ser elfy the marciai_n you! canmts 5 feiwiverque️r e scut naecistesf c\n",
            "epoch:  5\n",
            "850/850 [==============================] - 205s 241ms/step - loss: 1.0623\n",
            "---generating with seed: > f6yfavts\n",
            "paçoca é gostoso,  hein !!  https://t.co/v4dxvyko2h < \n",
            "------temperature:  0.2\n",
            "f6yfavts\n",
            "paçoca é gostoso,  hein !!  https://t.co/v4dxvyko2h\n",
            "que deus nos abençoe e nos proteja 🙏🏽⚽️ https://t.co/imukvoqjov\n",
            "this caro a sonho para esse proteja 🙏🏽⚽️ https://t.co/lvijqajois\n",
            "que deus n\n",
            "------temperature:  0.5\n",
            "ho para esse proteja 🙏🏽⚽️ https://t.co/lvijqajois\n",
            "que deus nos abençoe e nos proteja 🙏🏽⚽️h https://t.co/cokqltz6ra\n",
            "eano pra o protes cada senhor pra quer aclesse trabol ana do campo sem de volho que p\n",
            "------temperature:  1.0\n",
            "nhor pra quer aclesse trabol ana do campo sem de volho que pelo!! e assosmas dira montate e vote axemo2agas que eu tedo poda moicar ? seiga topar http://t.co/xlvkgnydbs\n",
            "#mossodentingo__preai zolta cra\n",
            "------temperature:  1.2\n",
            "topar http://t.co/xlvkgnydbs\n",
            "#mossodentingo__preai zolta crabaranom! 6yha5ps… https://t.co/owazfllt5o\n",
            "que deus nos pre9k arençoe pofeetando !! jusez dixaves @catod9v\n",
            "que irsa🙏#bouqui2. umissife, dipir\n",
            "epoch:  6\n",
            "850/850 [==============================] - 215s 252ms/step - loss: 1.0360\n",
            "---generating with seed: > .. virei mais fã, que figura ❤️\n",
            "@alvarogonzalez_ você não é  < \n",
            "------temperature:  0.2\n",
            ".. virei mais fã, que figura ❤️\n",
            "@alvarogonzalez_ você não é muito pra todos o meu para no @institutonjr esporte por todas de ser meu ser amigos muita mais pra todos o meu dia de amigos de ser amo de v\n",
            "------temperature:  0.5\n",
            "gos muita mais pra todos o meu dia de amigos de ser amo de vom come nos pesso http://t.co/dtnvb0lica\n",
            "que deus nos abençoe e nos proteja 🙏🏽⚽️ gaga in parcestite #chim@neymarjr #ad x @institutonjr @gaga\n",
            "------temperature:  1.0\n",
            " gaga in parcestite #chim@neymarjr #ad x @institutonjr @gagamilanoworld https://t.co/gf7qg9xfpu\n",
            "meus my kikc din tompplovesittando faller0 a ligesair redito neymar jraógingoda a wist drekingorjute foo\n",
            "------temperature:  1.2\n",
            " ligesair redito neymar jraógingoda a wist drekingorjute football lage . #.… https://t.co/nrhyy.2hsj\n",
            "brhotendo grandes para tu? ranzudo num pro jr. ispssessico parinho nicepy #realjay#http://t.co/rixf\n",
            "epoch:  7\n",
            "850/850 [==============================] - 210s 247ms/step - loss: 1.0202\n",
            "---generating with seed: > n ? don’t miss the chance to meet me at #meetneymar challeng < \n",
            "------temperature:  0.2\n",
            "n ? don’t miss the chance to meet me at #meetneymar challenges thanks #gagamilanoworld #gagamilanofora https://t.co/dyettpigkk\n",
            "@neymarjr  https://t.co/gqnjwjwfgi\n",
            "obrigado a todo do meu santo de todo d\n",
            "------temperature:  0.5\n",
            "tps://t.co/gqnjwjwfgi\n",
            "obrigado a todo do meu santo de todo de le um art https://t.co/fpseaqf6fi\n",
            "what to gotick in to the brasil !! apsci appriadesse #neymarjrgrado aqui !! http://t.co/5tmcacs28r\n",
            "aliga\n",
            "------temperature:  1.0\n",
            "riadesse #neymarjrgrado aqui !! http://t.co/5tmcacs28r\n",
            "aligaddo is me compalhão ento neltando 9o eu louwe sago volars mor parionadaque meu paris acisihg inso helloe, appssundo lo lick worldo paris ⚽ h\n",
            "------temperature:  1.2\n",
            "aris acisihg inso helloe, appssundo lo lick worldo paris ⚽ https://t.co/fiuac0w1ok\n",
            "osgutrnco me vo: @danianomenhalmarienk athe. comete o @brunndo !! dotpisto, fathv diege icio, manci reo ienestyoque m\n",
            "epoch:  8\n",
            "850/850 [==============================] - 204s 240ms/step - loss: 1.0993\n",
            "---generating with seed: > http://t.co/rsb3pn8kls\n",
            "@lovedl4_ft9 agora só falta virar #cr < \n",
            "------temperature:  0.2\n",
            "http://t.co/rsb3pn8kls\n",
            "@lovedl4_ft9 agora só falta virar #craquedacctttrostach/r corrar todasstros carro. cadastre-se e conhar ocopcortooo e glnror  canror carrt.co.cadas cora chrtpe-se garta yath htt\n",
            "------temperature:  0.5\n",
            " glnror  canror carrt.co.cadas cora chrtpe-se garta yath http://t.co/rvrebyzh3b\n",
            "todo me inges !! https://t.co/macmrzgpnj\n",
            "apprci parinta !! http://t.co/frtfakro8c\n",
            "parabéns carros cadastre-se e canhar o\n",
            "------temperature:  1.0\n",
            "ttp://t.co/frtfakro8c\n",
            "parabéns carros cadastre-se e canhar o carro. cagastrese vclar faro, dats://t.cooosthte htt\n",
            "camganar #neymar jr stalles pas genise esservete @you dellelper fula !! http://t.co/mu\n",
            "------temperature:  1.2\n",
            "s pas genise esservete @you dellelper fula !! http://t.co/muipbtlkux\n",
            "que deus arengos irm no suo go3 - #tachramikio https://t.co/tfhaeup4mi\n",
            "magr uma hupp://t.co/wcmueux42\n",
            "vora yoccarodo e roa gada vir\n",
            "epoch:  9\n",
            "850/850 [==============================] - 223s 262ms/step - loss: 2.0279\n",
            "---generating with seed: > ge de casa nem sempre é fácil, mas a gnt precisa ter coragem < \n",
            "------temperature:  0.2\n",
            "ge de casa nem sempre é fácil, mas a gnt precisa ter coragema http://t.co/cvnkm9l9h\n",
            "https://t.co/cvnkm9nque http://t.co/cvnkmem9ld http://t.co/cvnkmem\n",
            "vnkmem\n",
            "@gabeaascuda gor virar8o virar #craquedccl\n",
            "------temperature:  0.5\n",
            "co/cvnkmem\n",
            "vnkmem\n",
            "@gabeaascuda gor virar8o virar #craquedcclir visar me cimam9  #garacranro http://t.co/cvnkmikcw\n",
            "re falt vera o caras oror cahat @veyla emfa hoia par faltr neymar http://t.co/dqmqnkrc\n",
            "------temperature:  1.0\n",
            "cahat @veyla emfa hoia par faltr neymar http://t.co/dqmqnkrce\n",
            "gsmt jotkaaseara virar #criquedcaau@pr\n",
            "@brasiu m 5y gb g @neymarjr#nimf#é http://t.co/hidlebbfp: http://t.co/m9qey728beá @neymarjrcelio! @\n",
            "------temperature:  1.2\n",
            "://t.co/hidlebbfp: http://t.co/m9qey728beá @neymarjrcelio! @neymarolpraciali3 lotma iusif10#206boi autrthors vora inka, frem: http://t.co/cltbjfh16v\n",
            "@mojualnbou @ctaqueracco v ira  ó fala ifotii nima \n",
            "epoch:  10\n",
            "850/850 [==============================] - 217s 256ms/step - loss: 2.6851\n",
            "---generating with seed: > rc champ @sebogier took brazil #soccer captain @neymarjr for < \n",
            "------temperature:  0.2\n",
            "rc champ @sebogier took brazil #soccer captain @neymarjr for ! na fi halo.ro. o htacttp :///tquxgkal vi-u vara htt.:/t/ctt. hart.corca eb ab@nole # 9::/ttpsco.://t.craxo. ralttltraltaqudaro har vitcor\n",
            "------temperature:  0.5\n",
            "@nole # 9::/ttpsco.://t.craxo. ralttltraltaqudaro har vitcor r\n",
            "a http:/// ococorcor cadamnval jto ehtgctes:vr!d ra ganhttgetltamy eraquó ofan  canharr:/corar ca no ra httlta ht. !!!se http://t.conhotp\n",
            "------temperature:  1.0\n",
            "n  canharr:/corar ca no ra httlta ht. !!!se http://t.conhotppckeil ee cadodtaarjo lagstme c e a no lt bacvar vi1dao.\n",
            "o rapco.caó👊anhare harhlaava v!!cvncfoiko\n",
            "@jeme!!!d maara?1msc:/cvnkvnlonpar htrtag\n",
            "------temperature:  1.2\n",
            "laava v!!cvncfoiko\n",
            "@jeme!!!d maara?1msc:/cvnkvnlonpar htrtag6 folaoli thtaóifil'ge fo!e fo do.odo p ar cot pra-re vim do. e\n",
            "@nadessins: 2la51e htkcke9lo el !\n",
            "qu @hi@d!laij_ela ala_naror nuore-:rrnjçho\n",
            "epoch:  11\n",
            "468/850 [===============>..............] - ETA: 1:42 - loss: 2.9860"
          ],
          "name": "stdout"
        },
        {
          "output_type": "error",
          "ename": "KeyboardInterrupt",
          "evalue": "ignored",
          "traceback": [
            "\u001b[0;31m---------------------------------------------------------------------------\u001b[0m",
            "\u001b[0;31mKeyboardInterrupt\u001b[0m                         Traceback (most recent call last)",
            "\u001b[0;32m<ipython-input-28-4c94ab6ea52e>\u001b[0m in \u001b[0;36m<module>\u001b[0;34m()\u001b[0m\n\u001b[1;32m      5\u001b[0m \u001b[0;32mfor\u001b[0m \u001b[0mepoch\u001b[0m \u001b[0;32min\u001b[0m \u001b[0mrange\u001b[0m\u001b[0;34m(\u001b[0m\u001b[0;36m1\u001b[0m\u001b[0;34m,\u001b[0m\u001b[0;36m60\u001b[0m\u001b[0;34m)\u001b[0m\u001b[0;34m:\u001b[0m\u001b[0;34m\u001b[0m\u001b[0;34m\u001b[0m\u001b[0m\n\u001b[1;32m      6\u001b[0m   \u001b[0mprint\u001b[0m \u001b[0;34m(\u001b[0m\u001b[0;34m\"epoch: \"\u001b[0m\u001b[0;34m,\u001b[0m \u001b[0mepoch\u001b[0m\u001b[0;34m)\u001b[0m\u001b[0;34m\u001b[0m\u001b[0;34m\u001b[0m\u001b[0m\n\u001b[0;32m----> 7\u001b[0;31m   \u001b[0mmodel\u001b[0m\u001b[0;34m.\u001b[0m\u001b[0mfit\u001b[0m\u001b[0;34m(\u001b[0m\u001b[0mx\u001b[0m\u001b[0;34m,\u001b[0m\u001b[0my\u001b[0m\u001b[0;34m,\u001b[0m \u001b[0mbatch_size\u001b[0m\u001b[0;34m=\u001b[0m\u001b[0;36m128\u001b[0m\u001b[0;34m,\u001b[0m \u001b[0mepochs\u001b[0m\u001b[0;34m=\u001b[0m\u001b[0;36m1\u001b[0m\u001b[0;34m)\u001b[0m\u001b[0;34m\u001b[0m\u001b[0;34m\u001b[0m\u001b[0m\n\u001b[0m\u001b[1;32m      8\u001b[0m \u001b[0;34m\u001b[0m\u001b[0m\n\u001b[1;32m      9\u001b[0m \u001b[0;34m\u001b[0m\u001b[0m\n",
            "\u001b[0;32m/usr/local/lib/python3.6/dist-packages/tensorflow/python/keras/engine/training.py\u001b[0m in \u001b[0;36m_method_wrapper\u001b[0;34m(self, *args, **kwargs)\u001b[0m\n\u001b[1;32m    106\u001b[0m   \u001b[0;32mdef\u001b[0m \u001b[0m_method_wrapper\u001b[0m\u001b[0;34m(\u001b[0m\u001b[0mself\u001b[0m\u001b[0;34m,\u001b[0m \u001b[0;34m*\u001b[0m\u001b[0margs\u001b[0m\u001b[0;34m,\u001b[0m \u001b[0;34m**\u001b[0m\u001b[0mkwargs\u001b[0m\u001b[0;34m)\u001b[0m\u001b[0;34m:\u001b[0m\u001b[0;34m\u001b[0m\u001b[0;34m\u001b[0m\u001b[0m\n\u001b[1;32m    107\u001b[0m     \u001b[0;32mif\u001b[0m \u001b[0;32mnot\u001b[0m \u001b[0mself\u001b[0m\u001b[0;34m.\u001b[0m\u001b[0m_in_multi_worker_mode\u001b[0m\u001b[0;34m(\u001b[0m\u001b[0;34m)\u001b[0m\u001b[0;34m:\u001b[0m  \u001b[0;31m# pylint: disable=protected-access\u001b[0m\u001b[0;34m\u001b[0m\u001b[0;34m\u001b[0m\u001b[0m\n\u001b[0;32m--> 108\u001b[0;31m       \u001b[0;32mreturn\u001b[0m \u001b[0mmethod\u001b[0m\u001b[0;34m(\u001b[0m\u001b[0mself\u001b[0m\u001b[0;34m,\u001b[0m \u001b[0;34m*\u001b[0m\u001b[0margs\u001b[0m\u001b[0;34m,\u001b[0m \u001b[0;34m**\u001b[0m\u001b[0mkwargs\u001b[0m\u001b[0;34m)\u001b[0m\u001b[0;34m\u001b[0m\u001b[0;34m\u001b[0m\u001b[0m\n\u001b[0m\u001b[1;32m    109\u001b[0m \u001b[0;34m\u001b[0m\u001b[0m\n\u001b[1;32m    110\u001b[0m     \u001b[0;31m# Running inside `run_distribute_coordinator` already.\u001b[0m\u001b[0;34m\u001b[0m\u001b[0;34m\u001b[0m\u001b[0;34m\u001b[0m\u001b[0m\n",
            "\u001b[0;32m/usr/local/lib/python3.6/dist-packages/tensorflow/python/keras/engine/training.py\u001b[0m in \u001b[0;36mfit\u001b[0;34m(self, x, y, batch_size, epochs, verbose, callbacks, validation_split, validation_data, shuffle, class_weight, sample_weight, initial_epoch, steps_per_epoch, validation_steps, validation_batch_size, validation_freq, max_queue_size, workers, use_multiprocessing)\u001b[0m\n\u001b[1;32m   1096\u001b[0m                 batch_size=batch_size):\n\u001b[1;32m   1097\u001b[0m               \u001b[0mcallbacks\u001b[0m\u001b[0;34m.\u001b[0m\u001b[0mon_train_batch_begin\u001b[0m\u001b[0;34m(\u001b[0m\u001b[0mstep\u001b[0m\u001b[0;34m)\u001b[0m\u001b[0;34m\u001b[0m\u001b[0;34m\u001b[0m\u001b[0m\n\u001b[0;32m-> 1098\u001b[0;31m               \u001b[0mtmp_logs\u001b[0m \u001b[0;34m=\u001b[0m \u001b[0mtrain_function\u001b[0m\u001b[0;34m(\u001b[0m\u001b[0miterator\u001b[0m\u001b[0;34m)\u001b[0m\u001b[0;34m\u001b[0m\u001b[0;34m\u001b[0m\u001b[0m\n\u001b[0m\u001b[1;32m   1099\u001b[0m               \u001b[0;32mif\u001b[0m \u001b[0mdata_handler\u001b[0m\u001b[0;34m.\u001b[0m\u001b[0mshould_sync\u001b[0m\u001b[0;34m:\u001b[0m\u001b[0;34m\u001b[0m\u001b[0;34m\u001b[0m\u001b[0m\n\u001b[1;32m   1100\u001b[0m                 \u001b[0mcontext\u001b[0m\u001b[0;34m.\u001b[0m\u001b[0masync_wait\u001b[0m\u001b[0;34m(\u001b[0m\u001b[0;34m)\u001b[0m\u001b[0;34m\u001b[0m\u001b[0;34m\u001b[0m\u001b[0m\n",
            "\u001b[0;32m/usr/local/lib/python3.6/dist-packages/tensorflow/python/eager/def_function.py\u001b[0m in \u001b[0;36m__call__\u001b[0;34m(self, *args, **kwds)\u001b[0m\n\u001b[1;32m    778\u001b[0m       \u001b[0;32melse\u001b[0m\u001b[0;34m:\u001b[0m\u001b[0;34m\u001b[0m\u001b[0;34m\u001b[0m\u001b[0m\n\u001b[1;32m    779\u001b[0m         \u001b[0mcompiler\u001b[0m \u001b[0;34m=\u001b[0m \u001b[0;34m\"nonXla\"\u001b[0m\u001b[0;34m\u001b[0m\u001b[0;34m\u001b[0m\u001b[0m\n\u001b[0;32m--> 780\u001b[0;31m         \u001b[0mresult\u001b[0m \u001b[0;34m=\u001b[0m \u001b[0mself\u001b[0m\u001b[0;34m.\u001b[0m\u001b[0m_call\u001b[0m\u001b[0;34m(\u001b[0m\u001b[0;34m*\u001b[0m\u001b[0margs\u001b[0m\u001b[0;34m,\u001b[0m \u001b[0;34m**\u001b[0m\u001b[0mkwds\u001b[0m\u001b[0;34m)\u001b[0m\u001b[0;34m\u001b[0m\u001b[0;34m\u001b[0m\u001b[0m\n\u001b[0m\u001b[1;32m    781\u001b[0m \u001b[0;34m\u001b[0m\u001b[0m\n\u001b[1;32m    782\u001b[0m       \u001b[0mnew_tracing_count\u001b[0m \u001b[0;34m=\u001b[0m \u001b[0mself\u001b[0m\u001b[0;34m.\u001b[0m\u001b[0m_get_tracing_count\u001b[0m\u001b[0;34m(\u001b[0m\u001b[0;34m)\u001b[0m\u001b[0;34m\u001b[0m\u001b[0;34m\u001b[0m\u001b[0m\n",
            "\u001b[0;32m/usr/local/lib/python3.6/dist-packages/tensorflow/python/eager/def_function.py\u001b[0m in \u001b[0;36m_call\u001b[0;34m(self, *args, **kwds)\u001b[0m\n\u001b[1;32m    805\u001b[0m       \u001b[0;31m# In this case we have created variables on the first call, so we run the\u001b[0m\u001b[0;34m\u001b[0m\u001b[0;34m\u001b[0m\u001b[0;34m\u001b[0m\u001b[0m\n\u001b[1;32m    806\u001b[0m       \u001b[0;31m# defunned version which is guaranteed to never create variables.\u001b[0m\u001b[0;34m\u001b[0m\u001b[0;34m\u001b[0m\u001b[0;34m\u001b[0m\u001b[0m\n\u001b[0;32m--> 807\u001b[0;31m       \u001b[0;32mreturn\u001b[0m \u001b[0mself\u001b[0m\u001b[0;34m.\u001b[0m\u001b[0m_stateless_fn\u001b[0m\u001b[0;34m(\u001b[0m\u001b[0;34m*\u001b[0m\u001b[0margs\u001b[0m\u001b[0;34m,\u001b[0m \u001b[0;34m**\u001b[0m\u001b[0mkwds\u001b[0m\u001b[0;34m)\u001b[0m  \u001b[0;31m# pylint: disable=not-callable\u001b[0m\u001b[0;34m\u001b[0m\u001b[0;34m\u001b[0m\u001b[0m\n\u001b[0m\u001b[1;32m    808\u001b[0m     \u001b[0;32melif\u001b[0m \u001b[0mself\u001b[0m\u001b[0;34m.\u001b[0m\u001b[0m_stateful_fn\u001b[0m \u001b[0;32mis\u001b[0m \u001b[0;32mnot\u001b[0m \u001b[0;32mNone\u001b[0m\u001b[0;34m:\u001b[0m\u001b[0;34m\u001b[0m\u001b[0;34m\u001b[0m\u001b[0m\n\u001b[1;32m    809\u001b[0m       \u001b[0;31m# Release the lock early so that multiple threads can perform the call\u001b[0m\u001b[0;34m\u001b[0m\u001b[0;34m\u001b[0m\u001b[0;34m\u001b[0m\u001b[0m\n",
            "\u001b[0;32m/usr/local/lib/python3.6/dist-packages/tensorflow/python/eager/function.py\u001b[0m in \u001b[0;36m__call__\u001b[0;34m(self, *args, **kwargs)\u001b[0m\n\u001b[1;32m   2827\u001b[0m     \u001b[0;32mwith\u001b[0m \u001b[0mself\u001b[0m\u001b[0;34m.\u001b[0m\u001b[0m_lock\u001b[0m\u001b[0;34m:\u001b[0m\u001b[0;34m\u001b[0m\u001b[0;34m\u001b[0m\u001b[0m\n\u001b[1;32m   2828\u001b[0m       \u001b[0mgraph_function\u001b[0m\u001b[0;34m,\u001b[0m \u001b[0margs\u001b[0m\u001b[0;34m,\u001b[0m \u001b[0mkwargs\u001b[0m \u001b[0;34m=\u001b[0m \u001b[0mself\u001b[0m\u001b[0;34m.\u001b[0m\u001b[0m_maybe_define_function\u001b[0m\u001b[0;34m(\u001b[0m\u001b[0margs\u001b[0m\u001b[0;34m,\u001b[0m \u001b[0mkwargs\u001b[0m\u001b[0;34m)\u001b[0m\u001b[0;34m\u001b[0m\u001b[0;34m\u001b[0m\u001b[0m\n\u001b[0;32m-> 2829\u001b[0;31m     \u001b[0;32mreturn\u001b[0m \u001b[0mgraph_function\u001b[0m\u001b[0;34m.\u001b[0m\u001b[0m_filtered_call\u001b[0m\u001b[0;34m(\u001b[0m\u001b[0margs\u001b[0m\u001b[0;34m,\u001b[0m \u001b[0mkwargs\u001b[0m\u001b[0;34m)\u001b[0m  \u001b[0;31m# pylint: disable=protected-access\u001b[0m\u001b[0;34m\u001b[0m\u001b[0;34m\u001b[0m\u001b[0m\n\u001b[0m\u001b[1;32m   2830\u001b[0m \u001b[0;34m\u001b[0m\u001b[0m\n\u001b[1;32m   2831\u001b[0m   \u001b[0;34m@\u001b[0m\u001b[0mproperty\u001b[0m\u001b[0;34m\u001b[0m\u001b[0;34m\u001b[0m\u001b[0m\n",
            "\u001b[0;32m/usr/local/lib/python3.6/dist-packages/tensorflow/python/eager/function.py\u001b[0m in \u001b[0;36m_filtered_call\u001b[0;34m(self, args, kwargs, cancellation_manager)\u001b[0m\n\u001b[1;32m   1846\u001b[0m                            resource_variable_ops.BaseResourceVariable))],\n\u001b[1;32m   1847\u001b[0m         \u001b[0mcaptured_inputs\u001b[0m\u001b[0;34m=\u001b[0m\u001b[0mself\u001b[0m\u001b[0;34m.\u001b[0m\u001b[0mcaptured_inputs\u001b[0m\u001b[0;34m,\u001b[0m\u001b[0;34m\u001b[0m\u001b[0;34m\u001b[0m\u001b[0m\n\u001b[0;32m-> 1848\u001b[0;31m         cancellation_manager=cancellation_manager)\n\u001b[0m\u001b[1;32m   1849\u001b[0m \u001b[0;34m\u001b[0m\u001b[0m\n\u001b[1;32m   1850\u001b[0m   \u001b[0;32mdef\u001b[0m \u001b[0m_call_flat\u001b[0m\u001b[0;34m(\u001b[0m\u001b[0mself\u001b[0m\u001b[0;34m,\u001b[0m \u001b[0margs\u001b[0m\u001b[0;34m,\u001b[0m \u001b[0mcaptured_inputs\u001b[0m\u001b[0;34m,\u001b[0m \u001b[0mcancellation_manager\u001b[0m\u001b[0;34m=\u001b[0m\u001b[0;32mNone\u001b[0m\u001b[0;34m)\u001b[0m\u001b[0;34m:\u001b[0m\u001b[0;34m\u001b[0m\u001b[0;34m\u001b[0m\u001b[0m\n",
            "\u001b[0;32m/usr/local/lib/python3.6/dist-packages/tensorflow/python/eager/function.py\u001b[0m in \u001b[0;36m_call_flat\u001b[0;34m(self, args, captured_inputs, cancellation_manager)\u001b[0m\n\u001b[1;32m   1922\u001b[0m       \u001b[0;31m# No tape is watching; skip to running the function.\u001b[0m\u001b[0;34m\u001b[0m\u001b[0;34m\u001b[0m\u001b[0;34m\u001b[0m\u001b[0m\n\u001b[1;32m   1923\u001b[0m       return self._build_call_outputs(self._inference_function.call(\n\u001b[0;32m-> 1924\u001b[0;31m           ctx, args, cancellation_manager=cancellation_manager))\n\u001b[0m\u001b[1;32m   1925\u001b[0m     forward_backward = self._select_forward_and_backward_functions(\n\u001b[1;32m   1926\u001b[0m         \u001b[0margs\u001b[0m\u001b[0;34m,\u001b[0m\u001b[0;34m\u001b[0m\u001b[0;34m\u001b[0m\u001b[0m\n",
            "\u001b[0;32m/usr/local/lib/python3.6/dist-packages/tensorflow/python/eager/function.py\u001b[0m in \u001b[0;36mcall\u001b[0;34m(self, ctx, args, cancellation_manager)\u001b[0m\n\u001b[1;32m    548\u001b[0m               \u001b[0minputs\u001b[0m\u001b[0;34m=\u001b[0m\u001b[0margs\u001b[0m\u001b[0;34m,\u001b[0m\u001b[0;34m\u001b[0m\u001b[0;34m\u001b[0m\u001b[0m\n\u001b[1;32m    549\u001b[0m               \u001b[0mattrs\u001b[0m\u001b[0;34m=\u001b[0m\u001b[0mattrs\u001b[0m\u001b[0;34m,\u001b[0m\u001b[0;34m\u001b[0m\u001b[0;34m\u001b[0m\u001b[0m\n\u001b[0;32m--> 550\u001b[0;31m               ctx=ctx)\n\u001b[0m\u001b[1;32m    551\u001b[0m         \u001b[0;32melse\u001b[0m\u001b[0;34m:\u001b[0m\u001b[0;34m\u001b[0m\u001b[0;34m\u001b[0m\u001b[0m\n\u001b[1;32m    552\u001b[0m           outputs = execute.execute_with_cancellation(\n",
            "\u001b[0;32m/usr/local/lib/python3.6/dist-packages/tensorflow/python/eager/execute.py\u001b[0m in \u001b[0;36mquick_execute\u001b[0;34m(op_name, num_outputs, inputs, attrs, ctx, name)\u001b[0m\n\u001b[1;32m     58\u001b[0m     \u001b[0mctx\u001b[0m\u001b[0;34m.\u001b[0m\u001b[0mensure_initialized\u001b[0m\u001b[0;34m(\u001b[0m\u001b[0;34m)\u001b[0m\u001b[0;34m\u001b[0m\u001b[0;34m\u001b[0m\u001b[0m\n\u001b[1;32m     59\u001b[0m     tensors = pywrap_tfe.TFE_Py_Execute(ctx._handle, device_name, op_name,\n\u001b[0;32m---> 60\u001b[0;31m                                         inputs, attrs, num_outputs)\n\u001b[0m\u001b[1;32m     61\u001b[0m   \u001b[0;32mexcept\u001b[0m \u001b[0mcore\u001b[0m\u001b[0;34m.\u001b[0m\u001b[0m_NotOkStatusException\u001b[0m \u001b[0;32mas\u001b[0m \u001b[0me\u001b[0m\u001b[0;34m:\u001b[0m\u001b[0;34m\u001b[0m\u001b[0;34m\u001b[0m\u001b[0m\n\u001b[1;32m     62\u001b[0m     \u001b[0;32mif\u001b[0m \u001b[0mname\u001b[0m \u001b[0;32mis\u001b[0m \u001b[0;32mnot\u001b[0m \u001b[0;32mNone\u001b[0m\u001b[0;34m:\u001b[0m\u001b[0;34m\u001b[0m\u001b[0;34m\u001b[0m\u001b[0m\n",
            "\u001b[0;31mKeyboardInterrupt\u001b[0m: "
          ]
        }
      ]
    },
    {
      "cell_type": "code",
      "metadata": {
        "id": "NEI1k0hgx1yN",
        "outputId": "0c491ebf-00d4-4925-a1b6-807d40c5d7a4",
        "colab": {
          "base_uri": "https://localhost:8080/",
          "height": 68
        }
      },
      "source": [
        "import random\n",
        "import sys\n",
        "\n",
        "\n",
        "epoch = 1\n",
        "print (\"epoch: \", epoch)\n",
        "model.fit(x,y, batch_size=128, epochs=1)\n"
      ],
      "execution_count": 25,
      "outputs": [
        {
          "output_type": "stream",
          "text": [
            "epoch:  1\n",
            "850/850 [==============================] - 210s 247ms/step - loss: 1.2652\n"
          ],
          "name": "stdout"
        },
        {
          "output_type": "execute_result",
          "data": {
            "text/plain": [
              "<tensorflow.python.keras.callbacks.History at 0x7f40d5ef04e0>"
            ]
          },
          "metadata": {
            "tags": []
          },
          "execution_count": 25
        }
      ]
    },
    {
      "cell_type": "code",
      "metadata": {
        "id": "2QXmbHHix8ZX",
        "outputId": "c8a56204-ddd4-43c9-a95d-3e017b75d048",
        "colab": {
          "base_uri": "https://localhost:8080/",
          "height": 425
        }
      },
      "source": [
        "\n",
        "start_index = random.randint(0, len(text) - maxlen - 1 )\n",
        "generated_text = text[start_index: start_index + maxlen]\n",
        "print('---generating with seed: > '+ generated_text + ' < ')\n",
        "\n",
        "for temperature in [0.2, 0.5, 1.0, 1.2]:\n",
        "  print ('------temperature: ', temperature)\n",
        "  sys.stdout.write(generated_text)\n",
        "  for i in range(400):\n",
        "    sampled = np.zeros((1, maxlen, len(chars)))\n",
        "    for t, char in enumerate (generated_text):\n",
        "      sampled [0, t, char_indices[char]] = 1\n",
        "    \n",
        "    preds  = model.predict(sampled, verbose=0)[0]\n",
        "    next_index = sample(preds, temperature)\n",
        "    next_char= chars[next_index]\n",
        "\n",
        "\n",
        "    generated_text += next_char\n",
        "    generated_text = generated_text[1:]\n",
        "\n",
        "    sys.stdout.write(next_char)\n",
        "    sys.stdout.flush()\n",
        "  print()\n"
      ],
      "execution_count": 26,
      "outputs": [
        {
          "output_type": "stream",
          "text": [
            "---generating with seed: > o e ganhar o carro. cadastre-se e concorra http://t.co/cvnkm < \n",
            "------temperature:  0.2\n",
            "o e ganhar o carro. cadastre-se e concorra http://t.co/cvnkmem9ld http://t.co/yqaahoooos\n",
            "@lassileneymar agora só falta virar #craquedaclaro e ganhar o carro. cadastre-se e concorra http://t.co/cvnkmem9ld http://t.co/yooooovovy\n",
            "@marineymarjr_ma agora só falta virar #craquedaclaro e ganhar o carro. cadastre-se e concorra http://t.co/cvnkmem9ld http://t.co/ccvyoooaep\n",
            "@marredessedreymar agora só falta virar #craquedaclaro e ganhar o carro. cadastre-se e concor\n",
            "------temperature:  0.5\n",
            " virar #craquedaclaro e ganhar o carro. cadastre-se e concorra http://t.co/cvnkmem9ld http://t.co/fqw9rx1shc\n",
            "@neymarjr_mar agora só falta virar #craquedaclaro e ganhar o carro. cadastre-se e concorra http://t.co/cvnkmem9ld http://t.co/llj14vyvcc\n",
            "@espanharjr agora só falta virar #craquedaclaro e ganhar o carro. cadastre-se e concorra http://t.co/cvnkmem9ld http://t.co/spnovngcsm\n",
            "@rovessedtediney agora só falta virar #craquedaclaro e ganhar o carro. cadastre\n",
            "------temperature:  1.0\n",
            "ora só falta virar #craquedaclaro e ganhar o carro. cadastre-se e concorra http://t.co/cvnkmem9ld http://t.co/wfaz9taon2k\n",
            "@oscuenho agora só falta virar #chaquedaclaro e ganhar o carro. cadastre-se e concorra http://t.co/jvnkmem9ld http://t.co/c7ue0hj5jt\n",
            "@abneli6na_scr agora só falta virar #craquedaclaro e ganhar o carro. cadastre-se e concorra http://t.co/cvnkmem9ld http://t.co/e1gvetonho\n",
            "@5heneymarjreita agora só falta virar #craquedaclaro e ganhar o car\n",
            "------temperature:  1.2\n",
            "marjreita agora só falta virar #craquedaclaro e ganhar o carro. cadastre-se e concorra http://t.co/cvnkmem9ld http://t.co/nkcoz7icfz\n",
            "@esejusaroedequeyma vieu anjreedeis vaos todo,. kers3q\n",
            "o @18atrsederi galmm om sanhon do fre,l te aiss i@6 ccons2🙌j4á  @neypblobra #203ppmofoorgro dascrdtinho, ma cumobroile  to ga@6ps… http://t.co/dxqxobduvd\n",
            "guao x\n",
            "amay  #tutyouri: https://t.co/zmwxbegybm\n",
            "isguco a da❤do, om amasbris ôoralt k7 ⚽ #\n",
            "lão clememaiztrera e losig⚽ \n"
          ],
          "name": "stdout"
        }
      ]
    }
  ]
}